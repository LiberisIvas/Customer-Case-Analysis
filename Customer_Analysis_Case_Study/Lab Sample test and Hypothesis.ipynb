{
 "cells": [
  {
   "cell_type": "markdown",
   "id": "d3a747b8",
   "metadata": {},
   "source": [
    "It is assumed that the mean systolic blood pressure is μ = 120 mm Hg. In the Honolulu Heart Study, a sample of n = 100 people \n",
    "had an average systolic blood pressure of 130.1 mm Hg with a standard deviation of 21.21 mm Hg. \n",
    "Is the group significantly different (with respect to systolic blood pressure!) from the regular population?"
   ]
  },
  {
   "cell_type": "markdown",
   "id": "6e63ddee",
   "metadata": {},
   "source": [
    "1. State Null Hypothesis and Alternative Hypothesis\n",
    "2. Gather known data / variables e.g. population (n), confidence and significance levels ( 1-alfa and alfa)\n",
    "3. Choose statistical test : \n",
    "    a) compute test statistic and compare to critical value with a confidence level\n",
    "    b) compare p-value against significance level\n",
    "        Criterias : IF n < 30 --> choose t distribution ; ELSE --> choose normal distribution\n",
    "4. "
   ]
  },
  {
   "cell_type": "markdown",
   "id": "de7754be",
   "metadata": {},
   "source": [
    "1.\n",
    "<h3> Hypothesis H0:</h3> <h2>People from Honolulu have a much higher blood pressure than average population</h2> \n",
    "<h3> Hypothesis Ha:</h3> <h2>People from Honolulu has an average higher blood pressure </h2>"
   ]
  },
  {
   "cell_type": "markdown",
   "id": "ab219898",
   "metadata": {},
   "source": [
    "2. mean_pop = 120 mm Hg ; n = 100 ; mean_h = 130 mm Hg ; stnd.dev = 21.21 mm Hg ; alfa = 0.05% ; confidence level = 0.95 %"
   ]
  },
  {
   "cell_type": "markdown",
   "id": "854678b5",
   "metadata": {},
   "source": [
    "Z = (mean_pop - mean_h) / ( stnd.dev / 50^(1/2) ) = 120 - 130 / (21.21 / (100^(1/2) ) = -10 / 2.121  = -4.71"
   ]
  },
  {
   "cell_type": "code",
   "execution_count": 4,
   "id": "c9970405",
   "metadata": {},
   "outputs": [],
   "source": [
    "import scipy\n",
    "from scipy import stats"
   ]
  },
  {
   "cell_type": "code",
   "execution_count": 5,
   "id": "3fdcc758",
   "metadata": {},
   "outputs": [],
   "source": [
    "zc = +-scipy.stats.norm.ppf(1-(0.05/2))"
   ]
  },
  {
   "cell_type": "code",
   "execution_count": 6,
   "id": "f42176b4",
   "metadata": {},
   "outputs": [
    {
     "data": {
      "text/plain": [
       "-1.959963984540054"
      ]
     },
     "execution_count": 6,
     "metadata": {},
     "output_type": "execute_result"
    }
   ],
   "source": [
    "zc"
   ]
  },
  {
   "cell_type": "markdown",
   "id": "2f6ea7f4",
   "metadata": {},
   "source": [
    "-1.96 > -4.71 --> Confirm null Hypothesis"
   ]
  }
 ],
 "metadata": {
  "kernelspec": {
   "display_name": "Python 3 (ipykernel)",
   "language": "python",
   "name": "python3"
  },
  "language_info": {
   "codemirror_mode": {
    "name": "ipython",
    "version": 3
   },
   "file_extension": ".py",
   "mimetype": "text/x-python",
   "name": "python",
   "nbconvert_exporter": "python",
   "pygments_lexer": "ipython3",
   "version": "3.9.7"
  }
 },
 "nbformat": 4,
 "nbformat_minor": 5
}
