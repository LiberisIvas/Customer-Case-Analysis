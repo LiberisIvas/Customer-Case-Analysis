{
 "cells": [
  {
   "cell_type": "markdown",
   "id": "c379cd66",
   "metadata": {},
   "source": [
    "It is assumed that the mean systolic blood pressure is μ = 120 mm Hg. In the Honolulu Heart Study, a sample of n = 100 people \n",
    "had an average systolic blood pressure of 130.1 mm Hg with a standard deviation of 21.21 mm Hg. \n",
    "Is the group significantly different (with respect to systolic blood pressure!) from the regular population?"
   ]
  },
  {
   "cell_type": "markdown",
   "id": "a64e6d58",
   "metadata": {},
   "source": [
    "1. State Null Hypothesis and Alternative Hypothesis\n",
    "2. Gather known data / variables e.g. population (n), confidence and significance levels ( 1-alfa and alfa)\n",
    "3. Choose statistical test : \n",
    "    a) compute test statistic and compare to critical value with a confidence level\n",
    "    b) compare p-value against significance level\n",
    "        Criterias : IF n < 30 --> choose t distribution ; ELSE --> choose normal distribution\n",
    "4. "
   ]
  },
  {
   "cell_type": "markdown",
   "id": "6004609a",
   "metadata": {},
   "source": [
    "1.\n",
    "<h3> Hypothesis H0:</h3> <h2>People from Honolulu have a much higher blood pressure than average population</h2> \n",
    "<h3> Hypothesis Ha:</h3> <h2>People from Honolulu has an average higher blood pressure </h2>"
   ]
  },
  {
   "cell_type": "markdown",
   "id": "976b37e6",
   "metadata": {},
   "source": [
    "2. mean_pop = 120 mm Hg ; n = 100 ; mean_h = 130 mm Hg ; stnd.dev = 21.21 mm Hg ; alfa = 0.05% ; confidence level = 0.95 %"
   ]
  },
  {
   "cell_type": "markdown",
   "id": "a1407cf8",
   "metadata": {},
   "source": [
    "Z = (mean_pop - mean_h) / ( stnd.dev / 50^(1/2) ) = 120 - 130 / (21.21 / (100^(1/2) ) = -10 / 2.121  = -4.71"
   ]
  },
  {
   "cell_type": "code",
   "execution_count": 1,
   "id": "00c0cad3",
   "metadata": {},
   "outputs": [],
   "source": [
    "import scipy.stats as stats\n",
    "import pandas as pd\n",
    "import math"
   ]
  },
  {
   "cell_type": "code",
   "execution_count": 2,
   "id": "d2fb3eaa",
   "metadata": {},
   "outputs": [],
   "source": [
    "zc = +-stats.norm.ppf(1-(0.05))"
   ]
  },
  {
   "cell_type": "code",
   "execution_count": 3,
   "id": "6620229e",
   "metadata": {},
   "outputs": [
    {
     "data": {
      "text/plain": [
       "-1.6448536269514722"
      ]
     },
     "execution_count": 3,
     "metadata": {},
     "output_type": "execute_result"
    }
   ],
   "source": [
    "zc"
   ]
  },
  {
   "cell_type": "markdown",
   "id": "09261823",
   "metadata": {},
   "source": [
    "-1.64 > -4.71 --> Confirm null Hypothesis"
   ]
  },
  {
   "cell_type": "markdown",
   "id": "4bc34031",
   "metadata": {},
   "source": [
    "In a packing plant, a machine packs cartons with jars. It is supposed that a new machine will pack faster on the average\n",
    "than the machine currently used. To test that hypothesis, the times it takes each machine to pack ten cartons are recorded. \n",
    "The results, in seconds, are shown in the tables in the file Data/machine.txt. Assume that there is sufficient evidence to\n",
    " conduct the t test, does the data provide sufficient evidence to show if one machine is better than the other"
   ]
  },
  {
   "cell_type": "code",
   "execution_count": 4,
   "id": "029d2b40",
   "metadata": {},
   "outputs": [],
   "source": [
    "\n",
    "df = pd.read_csv(\"Data/Data_Machine.txt\")\n"
   ]
  },
  {
   "cell_type": "code",
   "execution_count": 5,
   "id": "466e1e47",
   "metadata": {},
   "outputs": [
    {
     "data": {
      "text/html": [
       "<div>\n",
       "<style scoped>\n",
       "    .dataframe tbody tr th:only-of-type {\n",
       "        vertical-align: middle;\n",
       "    }\n",
       "\n",
       "    .dataframe tbody tr th {\n",
       "        vertical-align: top;\n",
       "    }\n",
       "\n",
       "    .dataframe thead th {\n",
       "        text-align: right;\n",
       "    }\n",
       "</style>\n",
       "<table border=\"1\" class=\"dataframe\">\n",
       "  <thead>\n",
       "    <tr style=\"text-align: right;\">\n",
       "      <th></th>\n",
       "      <th>New Machine\\t  Old Machine</th>\n",
       "    </tr>\n",
       "  </thead>\n",
       "  <tbody>\n",
       "    <tr>\n",
       "      <th>0</th>\n",
       "      <td>42.1\\t        42.7</td>\n",
       "    </tr>\n",
       "    <tr>\n",
       "      <th>1</th>\n",
       "      <td>41\\t          43.6</td>\n",
       "    </tr>\n",
       "    <tr>\n",
       "      <th>2</th>\n",
       "      <td>41.3\\t        43.8</td>\n",
       "    </tr>\n",
       "    <tr>\n",
       "      <th>3</th>\n",
       "      <td>41.8\\t        43.3</td>\n",
       "    </tr>\n",
       "    <tr>\n",
       "      <th>4</th>\n",
       "      <td>42.4\\t        42.5</td>\n",
       "    </tr>\n",
       "    <tr>\n",
       "      <th>5</th>\n",
       "      <td>42.8\\t        43.5</td>\n",
       "    </tr>\n",
       "    <tr>\n",
       "      <th>6</th>\n",
       "      <td>43.2\\t        43.1</td>\n",
       "    </tr>\n",
       "    <tr>\n",
       "      <th>7</th>\n",
       "      <td>42.3\\t        41.7</td>\n",
       "    </tr>\n",
       "    <tr>\n",
       "      <th>8</th>\n",
       "      <td>41.8\\t        44</td>\n",
       "    </tr>\n",
       "    <tr>\n",
       "      <th>9</th>\n",
       "      <td>42.7\\t        44.1</td>\n",
       "    </tr>\n",
       "  </tbody>\n",
       "</table>\n",
       "</div>"
      ],
      "text/plain": [
       "  New Machine\\t  Old Machine\n",
       "0         42.1\\t        42.7\n",
       "1         41\\t          43.6\n",
       "2         41.3\\t        43.8\n",
       "3         41.8\\t        43.3\n",
       "4         42.4\\t        42.5\n",
       "5         42.8\\t        43.5\n",
       "6         43.2\\t        43.1\n",
       "7         42.3\\t        41.7\n",
       "8           41.8\\t        44\n",
       "9         42.7\\t        44.1"
      ]
     },
     "execution_count": 5,
     "metadata": {},
     "output_type": "execute_result"
    }
   ],
   "source": [
    "df"
   ]
  },
  {
   "cell_type": "code",
   "execution_count": 6,
   "id": "e6448370",
   "metadata": {},
   "outputs": [
    {
     "data": {
      "text/plain": [
       "42.1\\t        42.7    1\n",
       "41\\t          43.6    1\n",
       "41.3\\t        43.8    1\n",
       "41.8\\t        43.3    1\n",
       "42.4\\t        42.5    1\n",
       "42.8\\t        43.5    1\n",
       "43.2\\t        43.1    1\n",
       "42.3\\t        41.7    1\n",
       "41.8\\t        44      1\n",
       "42.7\\t        44.1    1\n",
       "Name: New Machine\\t  Old Machine, dtype: int64"
      ]
     },
     "execution_count": 6,
     "metadata": {},
     "output_type": "execute_result"
    }
   ],
   "source": [
    "df['New Machine\\t  Old Machine'].value_counts()"
   ]
  },
  {
   "cell_type": "code",
   "execution_count": 7,
   "id": "4fc84ae9",
   "metadata": {},
   "outputs": [
    {
     "name": "stderr",
     "output_type": "stream",
     "text": [
      "C:\\Users\\Seinf\\AppData\\Local\\Temp/ipykernel_11572/312059950.py:1: FutureWarning: Columnar iteration over characters will be deprecated in future releases.\n",
      "  df['New'], df['Old'] = df['New Machine\\t  Old Machine'].str.split('\\t', 1).str\n"
     ]
    }
   ],
   "source": [
    "df['New'], df['Old'] = df['New Machine\\t  Old Machine'].str.split('\\t', 1).str\n",
    "    "
   ]
  },
  {
   "cell_type": "code",
   "execution_count": null,
   "id": "adad50b5",
   "metadata": {},
   "outputs": [],
   "source": []
  },
  {
   "cell_type": "code",
   "execution_count": 8,
   "id": "89c54fab",
   "metadata": {},
   "outputs": [],
   "source": [
    "df = df.iloc[: , 1:]"
   ]
  },
  {
   "cell_type": "code",
   "execution_count": 9,
   "id": "f7623808",
   "metadata": {},
   "outputs": [
    {
     "data": {
      "text/html": [
       "<div>\n",
       "<style scoped>\n",
       "    .dataframe tbody tr th:only-of-type {\n",
       "        vertical-align: middle;\n",
       "    }\n",
       "\n",
       "    .dataframe tbody tr th {\n",
       "        vertical-align: top;\n",
       "    }\n",
       "\n",
       "    .dataframe thead th {\n",
       "        text-align: right;\n",
       "    }\n",
       "</style>\n",
       "<table border=\"1\" class=\"dataframe\">\n",
       "  <thead>\n",
       "    <tr style=\"text-align: right;\">\n",
       "      <th></th>\n",
       "      <th>New</th>\n",
       "      <th>Old</th>\n",
       "    </tr>\n",
       "  </thead>\n",
       "  <tbody>\n",
       "    <tr>\n",
       "      <th>0</th>\n",
       "      <td>42.1</td>\n",
       "      <td>42.7</td>\n",
       "    </tr>\n",
       "    <tr>\n",
       "      <th>1</th>\n",
       "      <td>41</td>\n",
       "      <td>43.6</td>\n",
       "    </tr>\n",
       "    <tr>\n",
       "      <th>2</th>\n",
       "      <td>41.3</td>\n",
       "      <td>43.8</td>\n",
       "    </tr>\n",
       "    <tr>\n",
       "      <th>3</th>\n",
       "      <td>41.8</td>\n",
       "      <td>43.3</td>\n",
       "    </tr>\n",
       "    <tr>\n",
       "      <th>4</th>\n",
       "      <td>42.4</td>\n",
       "      <td>42.5</td>\n",
       "    </tr>\n",
       "    <tr>\n",
       "      <th>5</th>\n",
       "      <td>42.8</td>\n",
       "      <td>43.5</td>\n",
       "    </tr>\n",
       "    <tr>\n",
       "      <th>6</th>\n",
       "      <td>43.2</td>\n",
       "      <td>43.1</td>\n",
       "    </tr>\n",
       "    <tr>\n",
       "      <th>7</th>\n",
       "      <td>42.3</td>\n",
       "      <td>41.7</td>\n",
       "    </tr>\n",
       "    <tr>\n",
       "      <th>8</th>\n",
       "      <td>41.8</td>\n",
       "      <td>44</td>\n",
       "    </tr>\n",
       "    <tr>\n",
       "      <th>9</th>\n",
       "      <td>42.7</td>\n",
       "      <td>44.1</td>\n",
       "    </tr>\n",
       "  </tbody>\n",
       "</table>\n",
       "</div>"
      ],
      "text/plain": [
       "    New             Old\n",
       "0  42.1            42.7\n",
       "1    41            43.6\n",
       "2  41.3            43.8\n",
       "3  41.8            43.3\n",
       "4  42.4            42.5\n",
       "5  42.8            43.5\n",
       "6  43.2            43.1\n",
       "7  42.3            41.7\n",
       "8  41.8              44\n",
       "9  42.7            44.1"
      ]
     },
     "execution_count": 9,
     "metadata": {},
     "output_type": "execute_result"
    }
   ],
   "source": [
    "df"
   ]
  },
  {
   "cell_type": "code",
   "execution_count": 10,
   "id": "114efeaf",
   "metadata": {},
   "outputs": [],
   "source": [
    "df['New']  = df['New'].astype(float)"
   ]
  },
  {
   "cell_type": "code",
   "execution_count": 11,
   "id": "18ceceb9",
   "metadata": {},
   "outputs": [],
   "source": [
    "df['Old']  = df['Old'].astype(float)"
   ]
  },
  {
   "cell_type": "code",
   "execution_count": 12,
   "id": "b3e9c20d",
   "metadata": {},
   "outputs": [
    {
     "data": {
      "text/plain": [
       "42.14"
      ]
     },
     "execution_count": 12,
     "metadata": {},
     "output_type": "execute_result"
    }
   ],
   "source": [
    "mean1 = df['New'].mean()\n",
    "mean1"
   ]
  },
  {
   "cell_type": "code",
   "execution_count": 13,
   "id": "c7a3ef9b",
   "metadata": {},
   "outputs": [
    {
     "data": {
      "text/plain": [
       "43.230000000000004"
      ]
     },
     "execution_count": 13,
     "metadata": {},
     "output_type": "execute_result"
    }
   ],
   "source": [
    "mean2 = df.Old.mean()\n",
    "mean2"
   ]
  },
  {
   "cell_type": "code",
   "execution_count": 14,
   "id": "713f0880",
   "metadata": {},
   "outputs": [],
   "source": [
    "s1 = df['New'].std()"
   ]
  },
  {
   "cell_type": "code",
   "execution_count": 15,
   "id": "89e3c87b",
   "metadata": {},
   "outputs": [],
   "source": [
    "s2 = df['Old'].std()"
   ]
  },
  {
   "cell_type": "code",
   "execution_count": 16,
   "id": "ff5737c1",
   "metadata": {},
   "outputs": [],
   "source": [
    "t = (mean1 - mean2) / math.sqrt ( ((s1**2) / 2 ) + ((s2**2) / 2) ) "
   ]
  },
  {
   "cell_type": "code",
   "execution_count": 17,
   "id": "c353e9c2",
   "metadata": {},
   "outputs": [
    {
     "data": {
      "text/plain": [
       "-1.5192877588257143"
      ]
     },
     "execution_count": 17,
     "metadata": {},
     "output_type": "execute_result"
    }
   ],
   "source": [
    "t"
   ]
  },
  {
   "cell_type": "code",
   "execution_count": 18,
   "id": "32e5e562",
   "metadata": {},
   "outputs": [],
   "source": [
    "tc = stats.t.ppf(1-(0.05/2),9)"
   ]
  },
  {
   "cell_type": "code",
   "execution_count": 19,
   "id": "542a2ef4",
   "metadata": {},
   "outputs": [
    {
     "data": {
      "text/plain": [
       "2.2621571627409915"
      ]
     },
     "execution_count": 19,
     "metadata": {},
     "output_type": "execute_result"
    }
   ],
   "source": [
    "tc"
   ]
  },
  {
   "cell_type": "code",
   "execution_count": 20,
   "id": "9dfe6249",
   "metadata": {},
   "outputs": [
    {
     "data": {
      "text/plain": [
       "1.5192877588257143"
      ]
     },
     "execution_count": 20,
     "metadata": {},
     "output_type": "execute_result"
    }
   ],
   "source": [
    "abs(t)"
   ]
  },
  {
   "cell_type": "markdown",
   "id": "0ac4ffad",
   "metadata": {},
   "source": [
    "t< TC -> accept the null hypothesis, new machine will pack faster"
   ]
  },
  {
   "cell_type": "code",
   "execution_count": null,
   "id": "c19c7547",
   "metadata": {},
   "outputs": [],
   "source": []
  }
 ],
 "metadata": {
  "kernelspec": {
   "display_name": "Python 3 (ipykernel)",
   "language": "python",
   "name": "python3"
  },
  "language_info": {
   "codemirror_mode": {
    "name": "ipython",
    "version": 3
   },
   "file_extension": ".py",
   "mimetype": "text/x-python",
   "name": "python",
   "nbconvert_exporter": "python",
   "pygments_lexer": "ipython3",
   "version": "3.9.7"
  }
 },
 "nbformat": 4,
 "nbformat_minor": 5
}
